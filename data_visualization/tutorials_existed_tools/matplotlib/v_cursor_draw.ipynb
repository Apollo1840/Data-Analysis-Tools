{
 "cells": [
  {
   "cell_type": "code",
   "execution_count": 37,
   "id": "26263a43",
   "metadata": {},
   "outputs": [],
   "source": [
    "import matplotlib.pyplot as plt\n",
    "import numpy as np\n",
    "\n",
    "%matplotlib tk\n",
    "\n",
    "\n"
   ]
  },
  {
   "cell_type": "code",
   "execution_count": 38,
   "id": "5297de5d",
   "metadata": {},
   "outputs": [],
   "source": [
    "class Cursor:\n",
    "    def __init__(self, ax):\n",
    "        self.ax = ax\n",
    "\n",
    "        self.lx = ax.axhline(color='k', alpha=0.2)  # the horiz line\n",
    "        self.ly = ax.axvline(color='k', alpha=0.2)  # the vert line\n",
    "\n",
    "        self.clicks = []\n",
    "        self.scatter_clicks, = ax.plot([], [], linestyle=\"none\", marker=\"o\", color=\"r\")\n",
    "\n",
    "        # text location in axes coords\n",
    "        self.txt = ax.text(0.7, 0.9, '', transform=ax.transAxes)\n",
    "\n",
    "    def mouse_move(self, event):\n",
    "        if not event.inaxes:\n",
    "            return\n",
    "\n",
    "        x, y = event.xdata, event.ydata\n",
    "\n",
    "        # update the line positions and the text\n",
    "        self.lx.set_ydata(y)\n",
    "        self.ly.set_xdata(x)\n",
    "        self.txt.set_text('x=%1.2f, y=%1.2f' % (x, y))\n",
    "\n",
    "        self.ax.figure.canvas.draw()\n",
    "\n",
    "    def mouse_click(self, event):\n",
    "        if not event.inaxes:\n",
    "            return\n",
    "\n",
    "        x, y = event.xdata, event.ydata\n",
    "        self.clicks.append((x, y))\n",
    "\n",
    "        # update the scatter\n",
    "        if len(self.clicks)>=1:\n",
    "            xs, ys = zip(*self.clicks)\n",
    "            self.scatter_clicks.set_data(xs, ys)\n",
    "\n",
    "        self.ax.figure.canvas.draw()\n"
   ]
  },
  {
   "cell_type": "code",
   "execution_count": 39,
   "id": "46f0d12c",
   "metadata": {},
   "outputs": [],
   "source": [
    "fig = plt.figure()\n",
    "ax = fig.add_subplot(111)\n",
    "ax.set_xlim(-1,1)\n",
    "ax.set_ylim(-1,1)\n",
    "\n",
    "cursor = Cursor(ax)\n",
    "fig.canvas.mpl_connect('motion_notify_event', cursor.mouse_move)\n",
    "fig.canvas.mpl_connect('button_press_event', cursor.mouse_click)\n",
    "plt.show()"
   ]
  },
  {
   "cell_type": "code",
   "execution_count": null,
   "id": "161f7ecc",
   "metadata": {},
   "outputs": [],
   "source": []
  }
 ],
 "metadata": {
  "kernelspec": {
   "display_name": "congyutf",
   "language": "python",
   "name": "congyutf"
  },
  "language_info": {
   "codemirror_mode": {
    "name": "ipython",
    "version": 3
   },
   "file_extension": ".py",
   "mimetype": "text/x-python",
   "name": "python",
   "nbconvert_exporter": "python",
   "pygments_lexer": "ipython3",
   "version": "3.9.5"
  }
 },
 "nbformat": 4,
 "nbformat_minor": 5
}
