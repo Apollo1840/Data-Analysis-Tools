{
 "cells": [
  {
   "cell_type": "code",
   "execution_count": null,
   "metadata": {},
   "outputs": [],
   "source": [
    "import numpy as np\n",
    "import matplotlib.pyplot as plt\n",
    "import matplotlib.animation as ani\n",
    "from IPython.display import HTML"
   ]
  },
  {
   "cell_type": "code",
   "execution_count": null,
   "metadata": {},
   "outputs": [],
   "source": [
    "xdata, ydata = [], []\n",
    "\n",
    "def animate(frame):\n",
    "    # frame will varies from 0 to inf as integer\n",
    "    xdata.append(frame)\n",
    "    ydata.append(np.sin(frame))\n",
    "    \n",
    "    plt.plot(xdata, ydata)  # this plot will plt on old fig\n",
    "    \n",
    "fig = plt.figure() \n",
    "ani_1 = ani.FuncAnimation(fig, animate, interval=1000)  # 1000 means 1000ms\n",
    "\n",
    "HTML(ani_1.to_html5_video())   # ends in 100 seconds"
   ]
  },
  {
   "cell_type": "code",
   "execution_count": null,
   "metadata": {},
   "outputs": [],
   "source": [
    "# using axis instead\n",
    "\n",
    "xdata, ydata = [], []\n",
    "\n",
    "def animate(frame):\n",
    "    # frame will varies from 0 to inf as integer\n",
    "    xdata.append(frame)\n",
    "    ydata.append(np.sin(frame))\n",
    "    \n",
    "    ax.clear()\n",
    "    ax.plot(xdata, ydata)\n",
    "    \n",
    "    ax2.clear()\n",
    "    ax2.plot(xdata, [(-1)*y for y in ydata])\n",
    "    \n",
    "fig = plt.figure() \n",
    "ax  = fig.add_subplot(1,2,1)\n",
    "ax2 = fig.add_subplot(1,2,2)\n",
    "ani_1 = ani.FuncAnimation(fig, animate, interval=1000)  # 1000 means 1000ms\n",
    "\n",
    "HTML(ani_1.to_html5_video())   # ends in 100 seconds"
   ]
  },
  {
   "cell_type": "code",
   "execution_count": null,
   "metadata": {},
   "outputs": [],
   "source": [
    "# use .set_data() to update axis\n",
    "\n",
    "xdata, ydata = [], []\n",
    "\n",
    "def init():\n",
    "    fig, ax = plt.subplots()\n",
    "    ax.set_xlim(0, 10)\n",
    "    ax.set_ylim(-1, 1)\n",
    "    lines, = plt.plot([], [], 'ro', animated=True)\n",
    "    return fig, lines\n",
    "\n",
    "def animate(frame):\n",
    "    xdata.append(frame*np.pi/50)\n",
    "    ydata.append(np.sin(frame*np.pi/50))\n",
    "    lines.set_data(xdata, ydata)\n",
    "\n",
    "fig, lines = init()\n",
    "ani_1 = ani.FuncAnimation(fig, \n",
    "                          animate,\n",
    "                          interval=100)  # 100 means 100ms\n",
    "\n",
    "HTML(ani_1.to_html5_video())  # stop condition is somewhere here."
   ]
  },
  {
   "cell_type": "markdown",
   "metadata": {},
   "source": [
    "# customize frames"
   ]
  },
  {
   "cell_type": "code",
   "execution_count": null,
   "metadata": {},
   "outputs": [],
   "source": [
    "xdata, ydata = [], []\n",
    "\n",
    "def init():\n",
    "    fig, ax = plt.subplots()\n",
    "    ax.set_xlim(0, 10)\n",
    "    ax.set_ylim(-1, 1)\n",
    "    lines, = plt.plot([], [], 'ro', animated=True)\n",
    "    return fig, lines\n",
    "\n",
    "def animate(frame):\n",
    "    xdata.append(frame)\n",
    "    ydata.append(np.sin(frame))\n",
    "    lines.set_data(xdata, ydata)\n",
    "\n",
    "fig, lines = init()\n",
    "ani_1 = ani.FuncAnimation(fig, \n",
    "                          animate,\n",
    "                          frames=np.linspace(0, 2 * np.pi, 128),\n",
    "                          interval=100)  # 100 means 100ms\n",
    "\n",
    "HTML(ani_1.to_html5_video())  # stop condition is somewhere here."
   ]
  },
  {
   "cell_type": "markdown",
   "metadata": {},
   "source": [
    "# use blit"
   ]
  },
  {
   "cell_type": "code",
   "execution_count": null,
   "metadata": {},
   "outputs": [],
   "source": [
    "\n",
    "# blit: The blit keyword is an important one: \n",
    "# this tells the animation to only re-draw the pieces of the plot which have changed. \n",
    "# The time saved with blit=True means that the animations display much more quickly.\n",
    "\n",
    "xdata, ydata = [], []\n",
    "\n",
    "def init():\n",
    "    fig, ax = plt.subplots()\n",
    "    ax.set_xlim(0, 10)\n",
    "    ax.set_ylim(-1, 1)\n",
    "    return fig, ax\n",
    "\n",
    "\n",
    "def animate(frame):\n",
    "    xdata.append(frame)\n",
    "    ydata.append(np.sin(frame))\n",
    "    lines, = ax.plot(xdata, ydata, 'bo')\n",
    "    return lines,\n",
    "\n",
    "fig, ax = init()\n",
    "ani_2 = ani.FuncAnimation(fig, \n",
    "                          animate, \n",
    "                          frames=np.linspace(0, 2 * np.pi, 128), \n",
    "                          blit=True, \n",
    "                          interval=100)  # 100 means 100ms\n",
    "\n",
    "HTML(ani_2.to_html5_video())"
   ]
  },
  {
   "cell_type": "code",
   "execution_count": null,
   "metadata": {},
   "outputs": [],
   "source": [
    "# plot 2 lines\n",
    "\n",
    "xdata, ydata = [], []\n",
    "\n",
    "def init():\n",
    "    fig, ax = plt.subplots()\n",
    "    ax.set_xlim(0, 10)\n",
    "    ax.set_ylim(-1, 1)\n",
    "    return fig, ax\n",
    "\n",
    "\n",
    "def animate(frame):\n",
    "    xdata.append(frame)\n",
    "    ydata.append(np.sin(frame))\n",
    "    \n",
    "    ax.plot(xdata, ydata, 'ro')\n",
    "    lines, = ax.plot(xdata, [-i for i in ydata], 'bo')\n",
    "    return lines,\n",
    "\n",
    "fig, ax = init()\n",
    "ani_2 = ani.FuncAnimation(fig, \n",
    "                          animate, \n",
    "                          frames=np.linspace(0, 2 * np.pi, 128), \n",
    "                          blit=True, \n",
    "                          interval=100)  # 100 means 100ms\n",
    "\n",
    "HTML(ani_2.to_html5_video())"
   ]
  },
  {
   "cell_type": "code",
   "execution_count": null,
   "metadata": {},
   "outputs": [],
   "source": [
    "# plot with .set_data()\n",
    "\n",
    "xdata, ydata = [], []\n",
    "\n",
    "def init():\n",
    "    fig, ax = plt.subplots()\n",
    "    ax.set_xlim(0, 10)\n",
    "    ax.set_ylim(-1, 1)\n",
    "    lines, = plt.plot([], [], 'ro', animated=True)\n",
    "    return fig, lines\n",
    "\n",
    "def animate(frame):\n",
    "    xdata.append(frame)\n",
    "    ydata.append(np.sin(frame))\n",
    "    lines.set_data(xdata, ydata)\n",
    "    return lines,\n",
    "\n",
    "fig, lines = init()\n",
    "ani_1 = ani.FuncAnimation(fig, \n",
    "                          animate,\n",
    "                          frames=np.linspace(0, 2 * np.pi, 128),\n",
    "                          interval=100,  # 100 means 100ms\n",
    "                          blit=True)\n",
    "\n",
    "HTML(ani_1.to_html5_video())  # stop condition is somewhere here."
   ]
  },
  {
   "cell_type": "code",
   "execution_count": null,
   "metadata": {},
   "outputs": [],
   "source": []
  }
 ],
 "metadata": {
  "kernelspec": {
   "display_name": "congyuml",
   "language": "python",
   "name": "congyuml"
  },
  "language_info": {
   "codemirror_mode": {
    "name": "ipython",
    "version": 3
   },
   "file_extension": ".py",
   "mimetype": "text/x-python",
   "name": "python",
   "nbconvert_exporter": "python",
   "pygments_lexer": "ipython3",
   "version": "3.6.8"
  }
 },
 "nbformat": 4,
 "nbformat_minor": 2
}
