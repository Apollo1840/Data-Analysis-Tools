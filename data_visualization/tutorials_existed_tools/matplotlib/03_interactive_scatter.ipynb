{
 "cells": [
  {
   "cell_type": "code",
   "execution_count": 1,
   "metadata": {},
   "outputs": [],
   "source": [
    "# target: plot a scatter chart, every point in the scatter is clickable, \n",
    "#         and will pop up a window and draw a line plot"
   ]
  },
  {
   "cell_type": "code",
   "execution_count": 13,
   "metadata": {},
   "outputs": [],
   "source": [
    "import matplotlib.pyplot as plt\n",
    "import numpy as np\n",
    "import pandas as pd\n",
    "plt.style.use('seaborn')\n",
    "\n",
    "%matplotlib tk"
   ]
  },
  {
   "cell_type": "code",
   "execution_count": 24,
   "metadata": {},
   "outputs": [],
   "source": [
    "class MontainPoint:\n",
    "    def __init__(self, x, y, hue=None, signal=None):\n",
    "        self.x = x\n",
    "        self.y = y\n",
    "        self.hue = hue\n",
    "        self.signal = signal\n",
    "def mountainborn_scatter(x, y, hue=None, data=None, signals=None):\n",
    "    def on_pick(event):\n",
    "        # print(event.artist.obj.x)\n",
    "        axs[1].cla()\n",
    "        axs[1].plot(event.artist.obj.signal)\n",
    "        plt.show()\n",
    "\n",
    "    if signals is not None:\n",
    "        assert len(data[x]) == len(signals)\n",
    "\n",
    "    if data is not None:\n",
    "        x_values = list(data[x])\n",
    "        y_values = list(data[y])\n",
    "\n",
    "    else:\n",
    "        x_values = x\n",
    "        y_values = y\n",
    "\n",
    "    if hue is None:\n",
    "        hues = [\"ro\" for _ in range(len(x_values))]\n",
    "    elif data is None:\n",
    "        hues = hue\n",
    "    else:\n",
    "        hues = list(data[hue])\n",
    "\n",
    "    if signals is not None:\n",
    "        assert len(x_values) == len(signals)\n",
    "    else:\n",
    "        signals = [(x, y) for x, y in zip(x_values, y_values)]\n",
    "\n",
    "    points_objs = []\n",
    "    for i in range(len(x_values)):\n",
    "        points_objs.append(\n",
    "            MontainPoint(x=x_values[i],\n",
    "                         y=y_values[i],\n",
    "                         hue=hues[i],\n",
    "                         signal=signals[i]))\n",
    "\n",
    "    fig, axs = plt.subplots(2, 1, figsize=(20, 20))\n",
    "    for obj in points_objs:\n",
    "        artist = axs[0].plot(obj.x, obj.y, obj.hue, picker=5)[0]\n",
    "        # explanation of picker: https://matplotlib.org/3.1.1/gallery/event_handling/pick_event_demo.html\n",
    "        artist.obj = obj\n",
    "\n",
    "    fig.canvas.callbacks.connect('pick_event', on_pick)\n",
    "\n",
    "    plt.show()"
   ]
  },
  {
   "cell_type": "code",
   "execution_count": 26,
   "metadata": {
    "scrolled": true
   },
   "outputs": [
    {
     "name": "stdout",
     "output_type": "stream",
     "text": [
      "[[0.45417766 0.836652  ]\n",
      " [0.61072542 0.818666  ]\n",
      " [0.8380642  0.01883018]\n",
      " [0.41583594 0.42952376]\n",
      " [0.49466229 0.32002375]\n",
      " [0.0338499  0.82530305]\n",
      " [0.02492973 0.51506546]\n",
      " [0.66930591 0.72037722]\n",
      " [0.05084988 0.50848067]\n",
      " [0.6131197  0.80907425]]\n"
     ]
    },
    {
     "name": "stderr",
     "output_type": "stream",
     "text": [
      "/home/congyu/.virtualenvs/congyuml/lib/python3.6/site-packages/ipykernel_launcher.py:47: MatplotlibDeprecationWarning: Setting the line's pick radius via set_picker is deprecated since 3.3 and will be removed two minor releases later; use set_pickradius instead.\n"
     ]
    }
   ],
   "source": [
    "points = np.random.rand(10, 2)\n",
    "print(points)\n",
    "\n",
    "df = pd.DataFrame(points, columns=[\"x\", \"y\"])\n",
    "\n",
    "mountainborn_scatter(\"x\", \"y\", data=df)"
   ]
  },
  {
   "cell_type": "code",
   "execution_count": 28,
   "metadata": {},
   "outputs": [
    {
     "name": "stdout",
     "output_type": "stream",
     "text": [
      "[[0.7203836  0.99532389]\n",
      " [0.88752742 0.06177643]\n",
      " [0.29799706 0.69994183]\n",
      " [0.27279509 0.63011398]\n",
      " [0.09581103 0.3439361 ]\n",
      " [0.06558633 0.63874006]\n",
      " [0.94451593 0.66358656]\n",
      " [0.25113695 0.74205973]\n",
      " [0.548288   0.80804987]\n",
      " [0.40937406 0.5980196 ]]\n"
     ]
    },
    {
     "name": "stderr",
     "output_type": "stream",
     "text": [
      "/home/congyu/.virtualenvs/congyuml/lib/python3.6/site-packages/ipykernel_launcher.py:47: MatplotlibDeprecationWarning: Setting the line's pick radius via set_picker is deprecated since 3.3 and will be removed two minor releases later; use set_pickradius instead.\n"
     ]
    }
   ],
   "source": [
    "points = np.random.rand(10, 2)\n",
    "print(points)\n",
    "\n",
    "signals = np.random.rand(10, 30)\n",
    "\n",
    "df = pd.DataFrame(points, columns=[\"x\", \"y\"])\n",
    "\n",
    "mountainborn_scatter(\"x\", \"y\", data=df, signals=signals)"
   ]
  },
  {
   "cell_type": "code",
   "execution_count": null,
   "metadata": {},
   "outputs": [],
   "source": []
  }
 ],
 "metadata": {
  "kernelspec": {
   "display_name": "congyuml",
   "language": "python",
   "name": "congyuml"
  },
  "language_info": {
   "codemirror_mode": {
    "name": "ipython",
    "version": 3
   },
   "file_extension": ".py",
   "mimetype": "text/x-python",
   "name": "python",
   "nbconvert_exporter": "python",
   "pygments_lexer": "ipython3",
   "version": "3.6.9"
  }
 },
 "nbformat": 4,
 "nbformat_minor": 4
}
