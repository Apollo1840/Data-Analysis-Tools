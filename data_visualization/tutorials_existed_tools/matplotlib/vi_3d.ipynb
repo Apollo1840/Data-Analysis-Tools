{
 "cells": [
  {
   "cell_type": "code",
   "execution_count": 7,
   "id": "7fd88388",
   "metadata": {},
   "outputs": [],
   "source": [
    "import matplotlib.pyplot as plt\n",
    "import numpy as np\n",
    "\n",
    "%matplotlib qt\n",
    "\n",
    "# p.s plotly is very good tool for 3d scatter"
   ]
  },
  {
   "cell_type": "markdown",
   "id": "352479dc",
   "metadata": {},
   "source": [
    "# 3d scatter"
   ]
  },
  {
   "cell_type": "code",
   "execution_count": 8,
   "id": "49563204",
   "metadata": {},
   "outputs": [
    {
     "name": "stdout",
     "output_type": "stream",
     "text": [
      "[[ 0.78968993  1.04269188  0.11314934]\n",
      " [-0.37899374  0.0161155   0.65164464]\n",
      " [-0.17620322  0.2677689   1.38501205]\n",
      " [ 0.49037694 -0.77052407 -1.04325464]\n",
      " [ 0.16551597 -0.1300414   0.32580041]\n",
      " [ 2.56260129 -0.34490098  0.85794594]\n",
      " [-0.51238419  0.94880649 -0.06154056]\n",
      " [ 0.78234063  0.29839656  0.19906861]\n",
      " [-0.06492853  1.37142054  2.46032167]\n",
      " [ 0.44482175 -0.69487756  0.95735112]\n",
      " [ 0.33281203 -1.66998367 -1.89552257]\n",
      " [ 1.53157867 -0.69538214  0.98123816]\n",
      " [ 0.88752239 -0.89922844  2.06657805]\n",
      " [ 1.0119909  -0.63461217  0.17374074]\n",
      " [ 0.23181597 -1.05659954 -1.64064535]\n",
      " [-0.12617877 -1.68275562 -0.38156765]\n",
      " [-2.21495814  0.22308144 -0.21088472]\n",
      " [-0.66722302 -1.05617394 -0.19577665]\n",
      " [-1.07515618 -0.02957205 -1.38761962]\n",
      " [-0.48953303  0.16508088  0.31207254]\n",
      " [ 0.88136482 -0.26904808  0.45951667]\n",
      " [-0.46185899 -0.46301311  1.0321701 ]\n",
      " [-0.91611752  1.04993917  1.08257163]\n",
      " [-1.46111491 -0.39451258 -1.24717638]\n",
      " [ 0.61145146 -0.54983718 -1.2200434 ]\n",
      " [ 0.85202767  1.56573047  1.39810949]\n",
      " [ 1.13652163  1.15740537 -1.45356525]\n",
      " [ 1.23447293  0.45858033 -0.24697591]\n",
      " [ 0.17524155 -0.63777546 -1.72878917]\n",
      " [ 0.16635212 -1.17225148  2.05885667]]\n"
     ]
    }
   ],
   "source": [
    "data = np.reshape(np.random.randn(90), (30,3))\n",
    "print(data)"
   ]
  },
  {
   "cell_type": "code",
   "execution_count": 9,
   "id": "3a8b7740",
   "metadata": {},
   "outputs": [],
   "source": [
    "fig = plt.figure()\n",
    "ax = fig.add_subplot(projection='3d')\n",
    "for x in data:\n",
    "    ax.scatter(x[0], x[1], x[2], marker=\"o\")\n",
    "plt.show()"
   ]
  },
  {
   "cell_type": "code",
   "execution_count": 15,
   "id": "75e87e7d",
   "metadata": {},
   "outputs": [],
   "source": [
    "fig = plt.figure()\n",
    "ax = fig.add_subplot(projection='3d')\n",
    "sc = ax.scatter(data[:, 0], data[:, 1], data[:, 2], c=data[:, 0], marker=\"o\")\n",
    "plt.legend(*sc.legend_elements(), bbox_to_anchor=(1.05, 1), loc=2)\n",
    "plt.show()"
   ]
  },
  {
   "cell_type": "markdown",
   "id": "bb5b8978",
   "metadata": {},
   "source": [
    "# 3d mesh"
   ]
  },
  {
   "cell_type": "code",
   "execution_count": 16,
   "id": "f68fffea",
   "metadata": {},
   "outputs": [],
   "source": [
    "# Make data.\n",
    "x = np.arange(-5, 5, 0.25)\n",
    "y = np.arange(-5, 5, 0.25)\n",
    "X, Y = np.meshgrid(x, y)\n",
    "\n",
    "# lambda (x, y)\n",
    "Z = np.sin(np.sqrt(X**2 + Y**2))"
   ]
  },
  {
   "cell_type": "code",
   "execution_count": 18,
   "id": "c7fff8b5",
   "metadata": {},
   "outputs": [],
   "source": [
    "fig, ax = plt.subplots(subplot_kw={\"projection\": \"3d\"})\n",
    "\n",
    "# Plot the surface.\n",
    "surf = ax.plot_surface(X, Y, Z, cmap=\"magma\",\n",
    "                       linewidth=0, \n",
    "                       antialiased=False)\n",
    "\n",
    "# Add a color bar which maps values to colors.\n",
    "fig.colorbar(surf, shrink=0.5, aspect=5)\n",
    "\n",
    "plt.show()"
   ]
  },
  {
   "cell_type": "code",
   "execution_count": null,
   "id": "47513126",
   "metadata": {},
   "outputs": [],
   "source": []
  }
 ],
 "metadata": {
  "kernelspec": {
   "display_name": "congyutf",
   "language": "python",
   "name": "congyutf"
  },
  "language_info": {
   "codemirror_mode": {
    "name": "ipython",
    "version": 3
   },
   "file_extension": ".py",
   "mimetype": "text/x-python",
   "name": "python",
   "nbconvert_exporter": "python",
   "pygments_lexer": "ipython3",
   "version": "3.9.5"
  }
 },
 "nbformat": 4,
 "nbformat_minor": 5
}
