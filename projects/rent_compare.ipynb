{
 "cells": [
  {
   "cell_type": "code",
   "execution_count": 1,
   "id": "b0263e31",
   "metadata": {},
   "outputs": [],
   "source": [
    "from rent_entities import *\n",
    "from rent_compare import *"
   ]
  },
  {
   "cell_type": "code",
   "execution_count": 2,
   "id": "4ce5c9d9",
   "metadata": {},
   "outputs": [
    {
     "data": {
      "image/png": "[encoded data removed]",
      "text/plain": [
       "<Figure size 432x288 with 1 Axes>"
      ]
     },
     "metadata": {
      "needs_background": "light"
     },
     "output_type": "display_data"
    }
   ],
   "source": [
    "AppartmentEntity._plot_price_sensitive()"
   ]
  },
  {
   "cell_type": "code",
   "execution_count": 3,
   "id": "4be81a80",
   "metadata": {},
   "outputs": [],
   "source": [
    "\n",
    "oppotunities = [gepflegte2,\n",
    "                mobschon,\n",
    "                leopold\n",
    "                ]\n",
    "\n",
    "df = app2df(oppotunities)"
   ]
  },
  {
   "cell_type": "code",
   "execution_count": 4,
   "id": "8e660496",
   "metadata": {
    "collapsed": true
   },
   "outputs": [
    {
     "data": {
      "text/html": [
       "<div>\n",
       "<style scoped>\n",
       "    .dataframe tbody tr th:only-of-type {\n",
       "        vertical-align: middle;\n",
       "    }\n",
       "\n",
       "    .dataframe tbody tr th {\n",
       "        vertical-align: top;\n",
       "    }\n",
       "\n",
       "    .dataframe thead th {\n",
       "        text-align: right;\n",
       "    }\n",
       "</style>\n",
       "<table border=\"1\" class=\"dataframe\">\n",
       "  <thead>\n",
       "    <tr style=\"text-align: right;\">\n",
       "      <th></th>\n",
       "      <th>con</th>\n",
       "      <th>desire_score</th>\n",
       "      <th>id</th>\n",
       "      <th>label</th>\n",
       "      <th>price</th>\n",
       "      <th>pro</th>\n",
       "      <th>size</th>\n",
       "      <th>spec</th>\n",
       "    </tr>\n",
       "  </thead>\n",
       "  <tbody>\n",
       "    <tr>\n",
       "      <th>0</th>\n",
       "      <td>no bacony with EG</td>\n",
       "      <td>4.2</td>\n",
       "      <td>gepflegte2</td>\n",
       "      <td>app</td>\n",
       "      <td>1390</td>\n",
       "      <td>next to Ubahn; nice layout, next to park; next...</td>\n",
       "      <td>53</td>\n",
       "      <td>1500 nach; 2 Jahre</td>\n",
       "    </tr>\n",
       "    <tr>\n",
       "      <th>1</th>\n",
       "      <td>old building</td>\n",
       "      <td>4.3</td>\n",
       "      <td>mobschon</td>\n",
       "      <td>app</td>\n",
       "      <td>1380</td>\n",
       "      <td>near park; nice layout, next to market;</td>\n",
       "      <td>39</td>\n",
       "      <td>kvr</td>\n",
       "    </tr>\n",
       "    <tr>\n",
       "      <th>2</th>\n",
       "      <td>old building</td>\n",
       "      <td>4.1</td>\n",
       "      <td>leopold</td>\n",
       "      <td>app</td>\n",
       "      <td>1510</td>\n",
       "      <td>near park; nice layout; near shangsu; next to ...</td>\n",
       "      <td>55</td>\n",
       "      <td>chinese, large sofa, small bedroom, easy gabage</td>\n",
       "    </tr>\n",
       "  </tbody>\n",
       "</table>\n",
       "</div>"
      ],
      "text/plain": [
       "                 con  desire_score          id label  price  \\\n",
       "0  no bacony with EG           4.2  gepflegte2   app   1390   \n",
       "1       old building           4.3    mobschon   app   1380   \n",
       "2       old building           4.1     leopold   app   1510   \n",
       "\n",
       "                                                 pro  size  \\\n",
       "0  next to Ubahn; nice layout, next to park; next...    53   \n",
       "1           near park; nice layout, next to market;     39   \n",
       "2  near park; nice layout; near shangsu; next to ...    55   \n",
       "\n",
       "                                              spec  \n",
       "0                              1500 nach; 2 Jahre   \n",
       "1                                              kvr  \n",
       "2  chinese, large sofa, small bedroom, easy gabage  "
      ]
     },
     "execution_count": 4,
     "metadata": {},
     "output_type": "execute_result"
    }
   ],
   "source": [
    "df"
   ]
  },
  {
   "cell_type": "code",
   "execution_count": 5,
   "id": "12861cec",
   "metadata": {
    "collapsed": true
   },
   "outputs": [
    {
     "data": {
      "text/html": [
       "<div>\n",
       "<style scoped>\n",
       "    .dataframe tbody tr th:only-of-type {\n",
       "        vertical-align: middle;\n",
       "    }\n",
       "\n",
       "    .dataframe tbody tr th {\n",
       "        vertical-align: top;\n",
       "    }\n",
       "\n",
       "    .dataframe thead th {\n",
       "        text-align: right;\n",
       "    }\n",
       "</style>\n",
       "<table border=\"1\" class=\"dataframe\">\n",
       "  <thead>\n",
       "    <tr style=\"text-align: right;\">\n",
       "      <th></th>\n",
       "      <th>con</th>\n",
       "      <th>desire_score</th>\n",
       "      <th>id</th>\n",
       "      <th>label</th>\n",
       "      <th>price</th>\n",
       "      <th>pro</th>\n",
       "      <th>size</th>\n",
       "      <th>spec</th>\n",
       "    </tr>\n",
       "  </thead>\n",
       "  <tbody>\n",
       "    <tr>\n",
       "      <th>0</th>\n",
       "      <td>old building</td>\n",
       "      <td>4.3</td>\n",
       "      <td>mobschon</td>\n",
       "      <td>app</td>\n",
       "      <td>1380</td>\n",
       "      <td>near park; nice layout, next to market;</td>\n",
       "      <td>39</td>\n",
       "      <td>kvr</td>\n",
       "    </tr>\n",
       "    <tr>\n",
       "      <th>1</th>\n",
       "      <td>no bacony with EG</td>\n",
       "      <td>4.2</td>\n",
       "      <td>gepflegte2</td>\n",
       "      <td>app</td>\n",
       "      <td>1390</td>\n",
       "      <td>next to Ubahn; nice layout, next to park; next...</td>\n",
       "      <td>53</td>\n",
       "      <td>1500 nach; 2 Jahre</td>\n",
       "    </tr>\n",
       "    <tr>\n",
       "      <th>2</th>\n",
       "      <td>old building</td>\n",
       "      <td>4.1</td>\n",
       "      <td>leopold</td>\n",
       "      <td>app</td>\n",
       "      <td>1510</td>\n",
       "      <td>near park; nice layout; near shangsu; next to ...</td>\n",
       "      <td>55</td>\n",
       "      <td>chinese, large sofa, small bedroom, easy gabage</td>\n",
       "    </tr>\n",
       "  </tbody>\n",
       "</table>\n",
       "</div>"
      ],
      "text/plain": [
       "                 con  desire_score          id label  price  \\\n",
       "0       old building           4.3    mobschon   app   1380   \n",
       "1  no bacony with EG           4.2  gepflegte2   app   1390   \n",
       "2       old building           4.1     leopold   app   1510   \n",
       "\n",
       "                                                 pro  size  \\\n",
       "0           near park; nice layout, next to market;     39   \n",
       "1  next to Ubahn; nice layout, next to park; next...    53   \n",
       "2  near park; nice layout; near shangsu; next to ...    55   \n",
       "\n",
       "                                              spec  \n",
       "0                                              kvr  \n",
       "1                              1500 nach; 2 Jahre   \n",
       "2  chinese, large sofa, small bedroom, easy gabage  "
      ]
     },
     "execution_count": 5,
     "metadata": {},
     "output_type": "execute_result"
    }
   ],
   "source": [
    "df = df.sort_values([\"desire_score\"], ascending=False)\n",
    "df = df.reset_index(drop=True)\n",
    "df"
   ]
  },
  {
   "cell_type": "code",
   "execution_count": 5,
   "id": "ebd66e0c",
   "metadata": {},
   "outputs": [
    {
     "name": "stdout",
     "output_type": "stream",
     "text": [
      "leopold: \n",
      "\tpro:near park; nice layout; near shangsu; next to market; nice mobi, nice küche\n",
      "\tcon:old building\n",
      "\n",
      "gepflegte2: \n",
      "\tpro:next to Ubahn; nice layout, next to park; next to congyu; \n",
      "\tcon:no bacony with EG\n",
      "\n",
      "mobschon: \n",
      "\tpro:near park; nice layout, next to market; \n",
      "\tcon:old building\n",
      "\n"
     ]
    },
    {
     "data": {
      "image/png": "[encoded data removed]",
      "text/plain": [
       "<Figure size 720x720 with 1 Axes>"
      ]
     },
     "metadata": {
      "needs_background": "light"
     },
     "output_type": "display_data"
    }
   ],
   "source": [
    "df = df.sort_values([\"size\"], ascending=False)\n",
    "df = df.reset_index(drop=True)\n",
    "\n",
    "plt.figure(figsize=(10, 10))\n",
    "scatterplot_text(\"price\", \"size\", \"id\", hue=\"label\", size=\"desire_score\", data=df)\n"
   ]
  },
  {
   "cell_type": "code",
   "execution_count": null,
   "id": "4f890300",
   "metadata": {},
   "outputs": [],
   "source": []
  },
  {
   "cell_type": "code",
   "execution_count": null,
   "id": "073be945",
   "metadata": {},
   "outputs": [],
   "source": []
  }
 ],
 "metadata": {
  "kernelspec": {
   "display_name": "congyuml",
   "language": "python",
   "name": "congyuml"
  },
  "language_info": {
   "codemirror_mode": {
    "name": "ipython",
    "version": 3
   },
   "file_extension": ".py",
   "mimetype": "text/x-python",
   "name": "python",
   "nbconvert_exporter": "python",
   "pygments_lexer": "ipython3",
   "version": "3.6.9"
  }
 },
 "nbformat": 4,
 "nbformat_minor": 5
}
